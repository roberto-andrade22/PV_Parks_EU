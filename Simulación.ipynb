{
 "cells": [
  {
   "cell_type": "code",
   "execution_count": 1,
   "metadata": {},
   "outputs": [],
   "source": [
    "import os\n",
    "os.chdir('/home/roberto/Documents/Titulación/Tesina')"
   ]
  },
  {
   "cell_type": "code",
   "execution_count": 2,
   "metadata": {},
   "outputs": [],
   "source": [
    "from scripts import *"
   ]
  },
  {
   "cell_type": "markdown",
   "metadata": {},
   "source": [
    "### Países disponibles:\n",
    "\n",
    "##### -España\n",
    "##### -Alemania\n",
    "\n",
    "### Años disponibles:\n",
    "\n",
    "##### 2008 a 2017"
   ]
  },
  {
   "cell_type": "markdown",
   "metadata": {},
   "source": [
    "Correr siguiente celda para repetir toda la simulación"
   ]
  },
  {
   "cell_type": "code",
   "execution_count": 3,
   "metadata": {},
   "outputs": [],
   "source": [
    "#import multiprocessing\n",
    "#from joblib import delayed, Parallel\n",
    "\n",
    "#Parallel(n_jobs=multiprocessing.cpu_count()-3)(delayed(solar_year)(country,year) for country in paises for year in years)"
   ]
  },
  {
   "cell_type": "markdown",
   "metadata": {},
   "source": [
    "Correr siguiente celda para leer archivos existentes de simulación anterior"
   ]
  },
  {
   "cell_type": "code",
   "execution_count": 26,
   "metadata": {},
   "outputs": [],
   "source": [
    "import pandas as pd\n",
    "todo = {}\n",
    "for year in years:\n",
    "    for country in paises:\n",
    "        todo[country+str(year)]=pd.read_csv('../Archivos/Output/'+country+str(year)+'.csv',parse_dates=[0])\n",
    "        todo[country+str(year)].set_index('time',inplace=True)\n",
    "        todo[country+str(year)]=todo[country+str(year)]/1000            ## Convertir a GW"
   ]
  },
  {
   "cell_type": "markdown",
   "metadata": {},
   "source": [
    "Correr siguiente celda para integrar todos los datos en un único df"
   ]
  },
  {
   "cell_type": "code",
   "execution_count": 44,
   "metadata": {},
   "outputs": [],
   "source": [
    "df = pd.concat([todo['Spain2008'],todo['Germany2008']],axis=1)\n",
    "\n",
    "for year in years[1:]:\n",
    "    df_aux = pd.concat([todo['Spain'+str(year)],todo['Germany'+str(year)]],axis=1)\n",
    "    df = pd.concat([df,df_aux])\n",
    "    \n",
    "df.to_csv('../Archivos/Output/Combinado.csv')"
   ]
  },
  {
   "cell_type": "markdown",
   "metadata": {},
   "source": [
    "Para localizar un año de datos hay que llamar al diccionario y en la clave insertar el nombre del país y el año de interés, e.g. todo['Spain2011']"
   ]
  },
  {
   "cell_type": "markdown",
   "metadata": {},
   "source": [
    "Área elegible:\n",
    "Llamar la función eligible_area con argumento 'Spain' o 'Germany' y segundo argumento él uso de suelo a contemplar en el mapa\n",
    "\n",
    "Uso de suelo disponible:\n",
    "water\n",
    "(34,35,39,40)"
   ]
  }
 ],
 "metadata": {
  "interpreter": {
   "hash": "5b3ded1ccb95c1d9bd405e7b823d9e85424cde40fbb5985eb47e999ef50e15b4"
  },
  "kernelspec": {
   "display_name": "Python 3.8.10 64-bit",
   "language": "python",
   "name": "python3"
  },
  "language_info": {
   "codemirror_mode": {
    "name": "ipython",
    "version": 3
   },
   "file_extension": ".py",
   "mimetype": "text/x-python",
   "name": "python",
   "nbconvert_exporter": "python",
   "pygments_lexer": "ipython3",
   "version": "3.8.10"
  },
  "orig_nbformat": 4
 },
 "nbformat": 4,
 "nbformat_minor": 2
}
