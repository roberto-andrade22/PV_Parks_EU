{
 "cells": [
  {
   "cell_type": "code",
   "execution_count": null,
   "metadata": {},
   "outputs": [],
   "source": [
    "import os\n",
    "os.chdir('/home/roberto/Documents/Titulación/Tesina')\n",
    "from scripts import *"
   ]
  },
  {
   "cell_type": "markdown",
   "metadata": {},
   "source": [
    "### Países disponibles:\n",
    "\n",
    "##### -España\n",
    "##### -Alemania\n",
    "\n",
    "### Años disponibles:\n",
    "\n",
    "##### 2008 a 2017"
   ]
  },
  {
   "cell_type": "markdown",
   "metadata": {},
   "source": [
    "Correr siguiente celda para repetir toda la simulación"
   ]
  },
  {
   "cell_type": "code",
   "execution_count": null,
   "metadata": {},
   "outputs": [],
   "source": [
    "#import multiprocessing\n",
    "#from joblib import delayed, Parallel\n",
    "\n",
    "#Parallel(n_jobs=multiprocessing.cpu_count()-1)(delayed(solar_year)(country,year) for country in paises for year in years)"
   ]
  },
  {
   "cell_type": "markdown",
   "metadata": {},
   "source": [
    "Correr siguiente celda para leer archivos existentes de simulación anterior"
   ]
  },
  {
   "cell_type": "code",
   "execution_count": null,
   "metadata": {},
   "outputs": [],
   "source": [
    "#todo = {}\n",
    "#for year in years:\n",
    "#    for country in paises:\n",
    "#        todo[country+str(year)]=pd.read_csv('../Archivos/Output/'+country+str(year)+'.csv',parse_dates=[0])\n",
    "#        todo[country+str(year)].set_index('time',inplace=True)\n",
    "#        todo[country+str(year)]=todo[country+str(year)]/1000            ## Convertir a GW"
   ]
  },
  {
   "cell_type": "markdown",
   "metadata": {},
   "source": [
    "Correr siguiente celda para integrar todos los datos en un único df"
   ]
  },
  {
   "cell_type": "code",
   "execution_count": null,
   "metadata": {},
   "outputs": [],
   "source": [
    "#df = pd.concat([todo['Spain2008'],todo['Germany2008']],axis=1)\n",
    "\n",
    "#for year in years[1:]:\n",
    "#    df_aux = pd.concat([todo['Spain'+str(year)],todo['Germany'+str(year)]],axis=1)\n",
    "#    df = pd.concat([df,df_aux])\n",
    "    \n",
    "#df.to_csv('../Archivos/Output/Combinado.csv')"
   ]
  },
  {
   "cell_type": "markdown",
   "metadata": {},
   "source": [
    "Lectura del df único"
   ]
  },
  {
   "cell_type": "code",
   "execution_count": null,
   "metadata": {},
   "outputs": [],
   "source": [
    "def leer():\n",
    "    df = pd.read_csv('../Archivos/Output/Combinado.csv',parse_dates=[0])\n",
    "    df = df[(df['time'] < '2018-01-01')]\n",
    "    df.set_index('time',inplace=True)\n",
    "    df.index.drop_duplicates(keep=False)\n",
    "    return (df)"
   ]
  },
  {
   "cell_type": "code",
   "execution_count": null,
   "metadata": {},
   "outputs": [],
   "source": [
    "df = leer()"
   ]
  },
  {
   "cell_type": "code",
   "execution_count": null,
   "metadata": {},
   "outputs": [],
   "source": [
    "df.loc['2010-08-12']"
   ]
  },
  {
   "cell_type": "markdown",
   "metadata": {},
   "source": [
    "Gráfica tres días aleatorios de producción"
   ]
  },
  {
   "cell_type": "code",
   "execution_count": null,
   "metadata": {},
   "outputs": [],
   "source": [
    "def tres_random(df,pais):\n",
    "    df['doy'] = df.index.dayofyear\n",
    "    df['tiempo']=df.index.time\n",
    "    df['Year'] = df.index.year\n",
    "    df['ind']= df['doy'].astype(str)+\"-\"+ df['tiempo'].astype(str)\n",
    "    df['ind']=pd.to_datetime(df['ind'],format='%j-%H:%M:%S')\n",
    "    piv = pd.pivot_table(df, index=['ind'],columns=['Year'], values=[pais])\n",
    "    piv = piv[(piv.index <'1901-01-01')]\n",
    "    mes = np.random.choice(list(piv.index.month.unique()))\n",
    "    aux = piv[piv.index.month==mes]\n",
    "    split = np.array_split(aux,10)\n",
    "    x = np.random.choice(range(10))\n",
    "    titulo = pais+\"\\n\"+ str(calendar.month_name[mes])\n",
    "    split[x].plot(title = titulo,figsize=(20,7),xlabel = 'Date',ylabel='Solar Power [GW]', ls='--')\n",
    "    plt.legend(title = \"País:\")\n",
    "    plt.show()\n",
    "    plt.close()"
   ]
  },
  {
   "cell_type": "code",
   "execution_count": null,
   "metadata": {},
   "outputs": [],
   "source": [
    "for pais in paises:\n",
    "    tres_random(df,pais)"
   ]
  },
  {
   "cell_type": "markdown",
   "metadata": {},
   "source": [
    "Obtención de estadísticas descriptivas de producción total en los diez años"
   ]
  },
  {
   "cell_type": "code",
   "execution_count": null,
   "metadata": {},
   "outputs": [],
   "source": [
    "df = leer()"
   ]
  },
  {
   "cell_type": "code",
   "execution_count": null,
   "metadata": {},
   "outputs": [],
   "source": [
    "def descriptivas(df,pais):\n",
    "    pais_1 = df[pais]\n",
    "    total = {}\n",
    "    for year in years:\n",
    "        total[str(year)] = pais_1.loc[str(year)].sum()\n",
    "    sumas = pd.DataFrame.from_dict(total,orient='index')\n",
    "    titulo  = 'GWh ' + pais\n",
    "    sumas.rename(columns={0:titulo},inplace=True)\n",
    "    return(sumas)"
   ]
  },
  {
   "cell_type": "code",
   "execution_count": null,
   "metadata": {},
   "outputs": [],
   "source": [
    "spa = descriptivas(df,'Spain')\n",
    "spa"
   ]
  },
  {
   "cell_type": "code",
   "execution_count": null,
   "metadata": {},
   "outputs": [],
   "source": [
    "spa.describe()"
   ]
  },
  {
   "cell_type": "code",
   "execution_count": null,
   "metadata": {},
   "outputs": [],
   "source": [
    "ger = descriptivas(df,'Germany')\n",
    "ger"
   ]
  },
  {
   "cell_type": "code",
   "execution_count": null,
   "metadata": {},
   "outputs": [],
   "source": [
    "ger.describe()"
   ]
  },
  {
   "cell_type": "markdown",
   "metadata": {},
   "source": [
    "Producción promedio, máx, min y med de un día en cada mes"
   ]
  },
  {
   "cell_type": "code",
   "execution_count": null,
   "metadata": {},
   "outputs": [],
   "source": [
    "def Por_mes(Pais,Mes):\n",
    "    df = leer()\n",
    "    df['Month']=df.index.month\n",
    "    df['Time']=df.index.time\n",
    "    Country = df[[Pais,'Month','Time']]\n",
    "    mes = Country.loc[Country['Month']== Mes]\n",
    "    aux = mes.groupby('Time')\n",
    "    hora =aux[Pais].agg([np.median, lambda x: np.quantile(x,0.75),lambda x: np.quantile(x,0.25)])\n",
    "    hora.rename(columns={'<lambda_0>':'Perc. 0.75','<lambda_1>':'Perc. 0.25'},inplace=True)\n",
    "    return(hora)"
   ]
  },
  {
   "cell_type": "code",
   "execution_count": null,
   "metadata": {},
   "outputs": [],
   "source": [
    "def cuatrimestre(num_cuatrimestre,num_primer_mes,country):\n",
    "    import calendar\n",
    "    df = leer()\n",
    "    max = df[country].max()\n",
    "    titulo_sup =country+\"\\n\"+str(num_primer_mes)+\" - \"+str(num_primer_mes+3)\n",
    "    plt.figure(figsize=(60,35))\n",
    "    plt.suptitle(titulo_sup,fontsize=50)\n",
    "\n",
    "    plt.subplot(2,2,1)\n",
    "\n",
    "    month_1 = Por_mes(country,num_primer_mes)\n",
    "\n",
    "    x_axis = month_1.index.astype(str)\n",
    "\n",
    "    plt.plot(x_axis,month_1['Perc. 0.75'],ls='dashdot',label=\"Perc. 0.75\")\n",
    "    plt.plot(x_axis,month_1['median'],ls='solid',label=\"Median\")\n",
    "    plt.plot(x_axis,month_1['Perc. 0.25'],ls='dashed',label=\"Perc. 0.25\")\n",
    "    titulo = str(calendar.month_name[num_primer_mes])\n",
    "    plt.title(titulo,fontsize = 35)\n",
    "    plt.legend(loc='upper left',fontsize='xx-large')\n",
    "    plt.ylabel('Solar Power [GW]',fontsize = 35)\n",
    "    plt.xlabel('Hour of day',fontsize=35)\n",
    "    plt.tick_params(axis='y',labelsize=25)\n",
    "    plt.minorticks_off()\n",
    "    plt.ylim(bottom = 0,top = max)\n",
    "\n",
    "    plt.subplot(2,2,2)\n",
    "\n",
    "    month_2 = Por_mes(country,num_primer_mes+1)\n",
    "    plt.plot(x_axis,month_2['Perc. 0.75'],ls='dashdot',label=\"Perc. 0.75\")\n",
    "    plt.plot(x_axis,month_2['median'],ls='solid',label=\"Median\")\n",
    "    plt.plot(x_axis,month_2['Perc. 0.25'],ls='dashed',label=\"Perc. 0.25\")\n",
    "    titulo = str(calendar.month_name[num_primer_mes+1])\n",
    "    plt.title(titulo,fontsize = 35)\n",
    "    plt.legend(loc='upper left',fontsize='xx-large')\n",
    "    plt.ylabel('Solar Power [GW]',fontsize = 35)\n",
    "    plt.tick_params(axis='y',labelsize=25)\n",
    "    plt.xlabel('Hour of day',fontsize=35)\n",
    "    plt.minorticks_off()\n",
    "    plt.ylim(bottom = 0,top = max)\n",
    "\n",
    "    plt.subplot(2,2,3)\n",
    "\n",
    "    month_3 = Por_mes(country,num_primer_mes+2)\n",
    "    plt.plot(x_axis,month_3['Perc. 0.75'],ls='dashdot',label=\"Perc. 0.75\")\n",
    "    plt.plot(x_axis,month_3['median'],ls='solid',label=\"Median\")\n",
    "    plt.plot(x_axis,month_3['Perc. 0.25'],ls='dashed',label=\"Perc. 0.25\")\n",
    "    titulo = str(calendar.month_name[num_primer_mes+2])\n",
    "    plt.title(titulo,fontsize = 35)\n",
    "    plt.legend(loc='upper left',fontsize='xx-large')\n",
    "    plt.ylabel('Solar Power [GW]',fontsize = 35)\n",
    "    plt.tick_params(axis='y',labelsize=25)\n",
    "    plt.xlabel('Hour of day',fontsize=35)\n",
    "    plt.minorticks_off()\n",
    "    plt.ylim(bottom = 0,top = max)\n",
    "\n",
    "    plt.subplot(2,2,4)\n",
    "\n",
    "    month_4 = Por_mes(country,num_primer_mes+3)\n",
    "    plt.plot(x_axis,month_4['Perc. 0.75'],ls='dashdot',label=\"Perc. 0.75\")\n",
    "    plt.plot(x_axis,month_4['median'],ls='solid',label=\"Median\")\n",
    "    plt.plot(x_axis,month_4['Perc. 0.25'],ls='dashed',label=\"Perc. 0.25\")\n",
    "    titulo = str(calendar.month_name[num_primer_mes+3])\n",
    "    plt.title(titulo,fontsize = 35)\n",
    "    plt.legend(loc='upper left',fontsize='xx-large')\n",
    "    plt.ylabel('Solar Power [GW]',fontsize = 35)\n",
    "    plt.tick_params(axis='y',labelsize=25)\n",
    "    plt.xlabel('Hour of day',fontsize=35)\n",
    "    plt.minorticks_off()\n",
    "    plt.ylim(bottom = 0,top = max)\n",
    "    \n",
    "    plt.show()"
   ]
  },
  {
   "cell_type": "markdown",
   "metadata": {},
   "source": [
    "Gráficas por mes"
   ]
  },
  {
   "cell_type": "code",
   "execution_count": null,
   "metadata": {},
   "outputs": [],
   "source": [
    "cuatrimestre(1,1,'Spain')\n",
    "cuatrimestre(2,5,'Spain')\n",
    "cuatrimestre(3,9,'Spain')"
   ]
  },
  {
   "cell_type": "code",
   "execution_count": null,
   "metadata": {},
   "outputs": [],
   "source": [
    "cuatrimestre(1,1,'Germany')\n",
    "cuatrimestre(2,5,'Germany')\n",
    "cuatrimestre(3,9,'Germany')"
   ]
  },
  {
   "cell_type": "markdown",
   "metadata": {},
   "source": [
    "Mapas"
   ]
  },
  {
   "cell_type": "code",
   "execution_count": null,
   "metadata": {},
   "outputs": [],
   "source": [
    "area_elegible('Spain',dump)"
   ]
  },
  {
   "cell_type": "code",
   "execution_count": null,
   "metadata": {},
   "outputs": [],
   "source": [
    "area_elegible('Germany',dump)"
   ]
  }
 ],
 "metadata": {
  "interpreter": {
   "hash": "5b3ded1ccb95c1d9bd405e7b823d9e85424cde40fbb5985eb47e999ef50e15b4"
  },
  "kernelspec": {
   "display_name": "Python 3.8.10 64-bit",
   "language": "python",
   "name": "python3"
  },
  "language_info": {
   "codemirror_mode": {
    "name": "ipython",
    "version": 3
   },
   "file_extension": ".py",
   "mimetype": "text/x-python",
   "name": "python",
   "nbconvert_exporter": "python",
   "pygments_lexer": "ipython3",
   "version": "3.8.10"
  },
  "orig_nbformat": 4
 },
 "nbformat": 4,
 "nbformat_minor": 2
}
