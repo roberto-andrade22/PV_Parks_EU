{
 "cells": [
  {
   "cell_type": "code",
   "execution_count": 5,
   "metadata": {
    "slideshow": {
     "slide_type": "slide"
    }
   },
   "outputs": [],
   "source": [
    "import os\n",
    "os.chdir('/home/roberto/Documents/Titulación/Tesina')\n",
    "from scripts import *"
   ]
  },
  {
   "cell_type": "markdown",
   "metadata": {},
   "source": [
    "### Países disponibles:\n",
    "\n",
    "##### -España\n",
    "##### -Alemania\n",
    "\n",
    "### Años disponibles:\n",
    "\n",
    "##### 2008 a 2017\n",
    "### Métodos disponibles\n",
    "\n",
    "solar_one_day(country,year,month,day)\n",
    "\n",
    "correr_simulacion() para ejecutar simulación de nuevo\n",
    "\n",
    "leer() leer como DataFrame la salida de la simulación\n",
    "\n",
    "area_elegible(country, includer) para mapa cuadriculado del área a utilizar para paneles (Includer disponibles = dump y water)\n",
    "\n",
    "tres_random(pais) para gráfica de tres días aleatorios de generación de energía\n",
    "\n",
    "anual_country(pais) Generación anual por país. Regresa DF\n",
    "\n",
    "suma_mes(country,mes) Regresa la producción total de un mes para cada año en un país (Regresa diccionario)\n",
    "\n",
    "graficas_bienestar(country) Diagrama de caja y brazos para un país\n",
    "\n",
    "produccion_por_mes(country) Producción por mes. Regresa la media y su estimación con intervalos de confianza al 95% (DataFrame)\n",
    "\n",
    "ventas_spain() Regresa DataFrame con las ventas por cada mes de España\n",
    "\n",
    "ventas_germany() Regresa DataFrame con las ventas por cada mes de Alemania\n",
    "\n",
    "graficas_cuatrimestre(country) Gráficas por cuatrimestre. Perc.0.75, median y perc. 0.25"
   ]
  }
 ],
 "metadata": {
  "interpreter": {
   "hash": "5b3ded1ccb95c1d9bd405e7b823d9e85424cde40fbb5985eb47e999ef50e15b4"
  },
  "kernelspec": {
   "display_name": "Python 3 (ipykernel)",
   "language": "python",
   "name": "python3"
  },
  "language_info": {
   "codemirror_mode": {
    "name": "ipython",
    "version": 3
   },
   "file_extension": ".py",
   "mimetype": "text/x-python",
   "name": "python",
   "nbconvert_exporter": "python",
   "pygments_lexer": "ipython3",
   "version": "3.8.10"
  }
 },
 "nbformat": 4,
 "nbformat_minor": 2
}
