{
 "cells": [
  {
   "cell_type": "code",
   "execution_count": 1,
   "metadata": {},
   "outputs": [],
   "source": [
    "import os\n",
    "os.chdir('/home/roberto/Documents/Titulación/Tesina')"
   ]
  },
  {
   "cell_type": "code",
   "execution_count": 2,
   "metadata": {},
   "outputs": [],
   "source": [
    "from scripts import *"
   ]
  },
  {
   "cell_type": "markdown",
   "metadata": {},
   "source": [
    "### Países disponibles:\n",
    "\n",
    "##### -España\n",
    "##### -Alemania\n",
    "\n",
    "### Años disponibles:\n",
    "\n",
    "##### 2008 a 2017"
   ]
  },
  {
   "cell_type": "markdown",
   "metadata": {},
   "source": [
    "Correr siguiente celda para repetir toda la simulación"
   ]
  },
  {
   "cell_type": "code",
   "execution_count": 3,
   "metadata": {},
   "outputs": [],
   "source": [
    "#todo = {}\n",
    "#for year in years:\n",
    "#    for country in paises:\n",
    "#        solar_year(country,year).to_pandas().to_csv('../Archivos/Output/'+country+str(year)+'.csv')\n",
    "#        todo[country+str(year)]=pd.read_csv('../Archivos/Output/'+country+str(year)+'.csv')"
   ]
  },
  {
   "cell_type": "markdown",
   "metadata": {},
   "source": [
    "Correr siguiente celda para leer archivos existentes de simulación anterior"
   ]
  },
  {
   "cell_type": "code",
   "execution_count": 4,
   "metadata": {},
   "outputs": [],
   "source": [
    "import pandas as pd\n",
    "os.chdir('/home/roberto/Documents/Titulación/Archivos/Output')\n",
    "todo = {}\n",
    "for year in years:\n",
    "    for country in paises:\n",
    "        todo[country+str(year)]=pd.read_csv(country+str(year)+'.csv')"
   ]
  }
 ],
 "metadata": {
  "interpreter": {
   "hash": "5b3ded1ccb95c1d9bd405e7b823d9e85424cde40fbb5985eb47e999ef50e15b4"
  },
  "kernelspec": {
   "display_name": "Python 3.8.10 64-bit",
   "language": "python",
   "name": "python3"
  },
  "language_info": {
   "codemirror_mode": {
    "name": "ipython",
    "version": 3
   },
   "file_extension": ".py",
   "mimetype": "text/x-python",
   "name": "python",
   "nbconvert_exporter": "python",
   "pygments_lexer": "ipython3",
   "version": "3.8.10"
  },
  "orig_nbformat": 4
 },
 "nbformat": 4,
 "nbformat_minor": 2
}
