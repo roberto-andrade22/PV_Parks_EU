{
 "cells": [
  {
   "cell_type": "markdown",
   "metadata": {},
   "source": [
    "# Brief explanation of the project"
   ]
  },
  {
   "cell_type": "code",
   "execution_count": null,
   "metadata": {},
   "outputs": [],
   "source": [
    "from scripts import *"
   ]
  },
  {
   "cell_type": "markdown",
   "metadata": {},
   "source": [
    "The backbone of the project is the data from Copernicus EU. In order to access it, first one must sign up at their website ([Copernicus](https://www.copernicus.eu/en)), and they will provide instructions in order to access directly their API while running code.\n",
    "<br>\n",
    "After that, in short, we can theoretically submit queries from Python to download data from their massive database, ERA5.\n",
    "<br><br><br>\n",
    "Atlite's algorithm works as follows:\n",
    "<br>\n",
    "1. Using Geopandas, we create a map of the EU's country of interest, which will also create a vector that describes it's shape and coordinates."
   ]
  },
  {
   "cell_type": "code",
   "execution_count": null,
   "metadata": {},
   "outputs": [],
   "source": [
    "country = 'Italy'\n",
    "world = gpd.read_file(gpd.datasets.get_path('naturalearth_lowres'))\n",
    "shapes = world[world.name.isin([country])].set_index('name')\n",
    "shapes.plot(figsize = (10,10))"
   ]
  },
  {
   "cell_type": "markdown",
   "metadata": {},
   "source": [
    "2. We merge the map with a previously downloaded file from Copernicus, called Corine.tif\n",
    "<br>This new file is a map in which all of the EU is divided in a grid of 100m x 100m squares, in which every square indicates the type of landuse in those coordinates.\n",
    "<br>There are a total of 44 types of landuse defined for the region. \n",
    "<br><br>We can then ask Atlite to give us the map of the country of interest with the 100x100 points where the landuse is the one we are interested in analyzing.\n",
    "<br>For vizualisation purposes, we will initially ask it to show us half of the landuse types in a map.\n",
    "<br>The resulting map:"
   ]
  },
  {
   "cell_type": "code",
   "execution_count": null,
   "metadata": {},
   "outputs": [],
   "source": [
    "eligible_area(country,list(range(25)))"
   ]
  },
  {
   "cell_type": "markdown",
   "metadata": {},
   "source": [
    "For this project, we are only focused on *dump* designated coordinates. <br>The map for such lands:"
   ]
  },
  {
   "cell_type": "code",
   "execution_count": null,
   "metadata": {},
   "outputs": [],
   "source": [
    "eligible_area(country)"
   ]
  },
  {
   "cell_type": "markdown",
   "metadata": {},
   "source": [
    "Only 0.15% of the country, but it will still prove to be big in the long run."
   ]
  },
  {
   "cell_type": "code",
   "execution_count": null,
   "metadata": {},
   "outputs": [],
   "source": [
    "df = pd.DataFrame(types)\n",
    "df.rename(columns={0:'Table of landuse types for EU'},inplace=True)\n",
    "df"
   ]
  },
  {
   "cell_type": "markdown",
   "metadata": {},
   "source": [
    "\n",
    "<br><br>Here is the definition that Copernicus gives to *dump* designated land:\n",
    "<br>Public, industrial or mine dump sites.\n",
    "<br><br>This class is applicable for:\n",
    "\n",
    "- dump sites of public, communal waste (landfills);\n",
    "- dump sites of industrial waste - waste rock after processing of various raw materials;\n",
    "- dump sites of waste material from wastewater treatment plants (sewage sludge);\n",
    "- pools of waste water/liquid waste, products of various chemical processes;\n",
    "- associated land of mines where barren materials are dumped (coal tips, slag dumps)."
   ]
  },
  {
   "cell_type": "markdown",
   "metadata": {},
   "source": [
    "3. Given the coordinates, Atlite's model now only needs another parameter to submit a query to download Copernicus' data: time. We must ask for a specific timeframe and coordinates to download the climate data.\n",
    "<br><br>\n",
    "4. When executing the last instruction, Python will create a file named cutout in which it will save the data downloaded from Copernicus, and when executing Atlite's pv method, the downloaded data will be processed and as an output it will return a time series with the electric generation for each hour of the specified timeframe.\n",
    "<br><br><br><br>Here is how it would look for Italy on one day, August 12th, 2010."
   ]
  },
  {
   "cell_type": "code",
   "execution_count": null,
   "metadata": {},
   "outputs": [],
   "source": [
    "solar_one_day(country,2010,8,12)"
   ]
  },
  {
   "cell_type": "markdown",
   "metadata": {},
   "source": [
    "### Scaling it for more than one day: Spain and Germany's data from 2008 to 2017\n",
    "<br><br>It was decided to use two very different countries, weatherwise, for this project to showcase how steady and significant the energy output from solar can be in both warm and cold countries.\n",
    "<br><br>In practice, each year of the twenty of data needed took around one hour to download. The processing once downloaded was, however, very quick.\n",
    "<br>It was decided to create a method that would execute the process for all 20 years automatically as follows:"
   ]
  },
  {
   "cell_type": "code",
   "execution_count": null,
   "metadata": {},
   "outputs": [],
   "source": [
    "execute_order_66() # lol"
   ]
  },
  {
   "cell_type": "markdown",
   "metadata": {},
   "source": [
    "After the process is finalized, the output gets written into a single csv file.\n",
    "<br>Here's how it looks:"
   ]
  },
  {
   "cell_type": "code",
   "execution_count": null,
   "metadata": {},
   "outputs": [],
   "source": [
    "df = read_single_csv()\n",
    "df.head(24)"
   ]
  },
  {
   "cell_type": "markdown",
   "metadata": {},
   "source": [
    "We now have the data of electric pv potential in dump designated land for each hour for 10 years for both Germany and Spain.\n",
    "<br>However, it may not be so useful to have these data so scattered. We will compute it in different ways, such as aggregating for total production for a year, or for a month, in order to highlight whether or not it is consistent and significant enough to consider investing into."
   ]
  },
  {
   "cell_type": "code",
   "execution_count": null,
   "metadata": {},
   "outputs": [],
   "source": [
    "anual_country('Spain')"
   ]
  },
  {
   "cell_type": "code",
   "execution_count": null,
   "metadata": {},
   "outputs": [],
   "source": [
    "anual_country('Germany')"
   ]
  },
  {
   "cell_type": "markdown",
   "metadata": {},
   "source": [
    "For the ten years at hand, it can be noted that from year to year there is very little variation in each country's energy production, and for Spain this will be around 2 TWh, meanwhile for Germany it will be around 1.5 TWh, in spite of its notoriously worse climatic conditions.\n",
    "<br><br>This results are preliminary very uplifting since they show both things the project intended to prove: that production will be big and that it will be consistent on a year to year basis.\n",
    "<br><br>It is very interesting to observe how the production was distributed for each month on a yearly basis. The seasonal component of PV generation can be noted visually very clearly:"
   ]
  },
  {
   "cell_type": "code",
   "execution_count": null,
   "metadata": {},
   "outputs": [],
   "source": [
    "box_plots_monthly('Spain')"
   ]
  },
  {
   "cell_type": "code",
   "execution_count": null,
   "metadata": {},
   "outputs": [],
   "source": [
    "box_plots_monthly('Germany')"
   ]
  },
  {
   "cell_type": "markdown",
   "metadata": {},
   "source": [
    "### Is there a business opportunity?"
   ]
  },
  {
   "cell_type": "markdown",
   "metadata": {},
   "source": [
    "In order to determine whether or not there is a business opportunity for the amount of energy that would be produced in the markets of interest we must look at some market prices for this type of energy.\n",
    "<br>Because of the variable nature of solar energy, and looking at how that market has functioned as of now, we should be looking at energy auctions for long-term contracts to supply energy.\n",
    "<br><br>Also, it would be misleading to make assumptions based on prices from 2020 to today because of the multiple market disruptions that have taken place. Therefore, the analysis was made using prices from 2019 and prior.\n",
    "<br>A function was written in which the average production for each month was multiplied times the average long-term prices for that month in past years. The results were a table indicating the expected sales per month and per year for each of the two countries of interest:"
   ]
  },
  {
   "cell_type": "code",
   "execution_count": null,
   "metadata": {},
   "outputs": [],
   "source": [
    "sales_spain()"
   ]
  },
  {
   "cell_type": "code",
   "execution_count": null,
   "metadata": {},
   "outputs": [],
   "source": [
    "sales_germany()"
   ]
  },
  {
   "cell_type": "markdown",
   "metadata": {},
   "source": [
    "As it can be seen, even in countries with apparently very little solar potential, and using far less than 1% of the total available land, there can be over 55 million Euros in sales per year.\n",
    "<br>Regarding the costs, it is known that solar is an energy alternative that requires very minimal opex, and most of the investment will be capex. The later, currently being estimated at around 700 dollars/KWh of installed capacity on a utility scale.\n",
    "<br><br>Assuming being able to sell all of the production, which due to the increasing demand for energy and, in particular, for solar, it seems like a reasonable assumption, the expected time to get the investment back would sit at under 10 years. Currently, solar panels are being made with a guarantee for 25 year lifespan, and with the minimal opex costs, we could potentially be looking at over ten years of significant profits.\n",
    "<br><br> \n",
    "### Current examples"
   ]
  },
  {
   "cell_type": "markdown",
   "metadata": {},
   "source": [
    "[EPA: Re-Powering America's Land](https://www.epa.gov/sites/default/files/2021-03/documents/re_on_cl_program_overview_508_031121.pdf)\n",
    "\n",
    "<br>EPA launched an initiative to track projects that installed renewable energy farms in contaminated lands, landfills, among other land type uses such as the ones we investigated for Germany and Spain. So far, over 500 solar farms have been succesfully installed with almost 2 GWh of total capacity.\n",
    "<br>Furthermore, projects such as White Pine Renewables in Northern California have been developed in under 6 months and are looking to expand and recreate elsewhere. \n",
    "[White Pine](https://pv-magazine-usa.com/2021/11/19/white-pine-renewables-to-develop-michigans-first-floating-solar-project/)"
   ]
  },
  {
   "cell_type": "markdown",
   "metadata": {},
   "source": [
    "[Singapore](https://www.weforum.org/agenda/2021/07/singapore-floating-solar-panel-project-to-power-water-system/)\n",
    "<br><br>Singapore unveiled the world's largest floating solar farm on residual treatment plants: a 60 MWh capacity park that spans the size of 45 football fields and that has over 100 thousand panels."
   ]
  }
 ],
 "metadata": {
  "kernelspec": {
   "display_name": "Python 3 (ipykernel)",
   "language": "python",
   "name": "python3"
  },
  "language_info": {
   "codemirror_mode": {
    "name": "ipython",
    "version": 3
   },
   "file_extension": ".py",
   "mimetype": "text/x-python",
   "name": "python",
   "nbconvert_exporter": "python",
   "pygments_lexer": "ipython3",
   "version": "3.8.10"
  },
  "vscode": {
   "interpreter": {
    "hash": "5b3ded1ccb95c1d9bd405e7b823d9e85424cde40fbb5985eb47e999ef50e15b4"
   }
  }
 },
 "nbformat": 4,
 "nbformat_minor": 2
}
